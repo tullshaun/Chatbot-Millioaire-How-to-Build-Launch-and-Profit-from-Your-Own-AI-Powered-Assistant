{
 "cells": [
  {
   "cell_type": "markdown",
   "id": "3dfedaba",
   "metadata": {},
   "source": [
    "<H1>Chapter 4: Building a Simple Chatbot</H1>"
   ]
  },
  {
   "cell_type": "code",
   "execution_count": 5,
   "id": "5d154d09",
   "metadata": {},
   "outputs": [
    {
     "name": "stdout",
     "output_type": "stream",
     "text": [
      "Welcome to the chatbot. How can I assist you?\n",
      ">what is your name\n",
      "My name is Chatbot, how can I assist you?\n",
      ">hi\n",
      "Hello, how can I help you today?\n",
      ">quit\n",
      "Goodbye, have a great day!\n"
     ]
    }
   ],
   "source": [
    "import nltk\n",
    "from nltk.chat.util import Chat, reflections\n",
    "\n",
    "pairs = [\n",
    "    [\n",
    "        r\"my name is (.*)\",\n",
    "        [\"Hello %1, how can I help you today?\"]\n",
    "    ],\n",
    "    [\n",
    "        r\"hi|hello\",\n",
    "        [\"Hello, how can I help you today?\"]\n",
    "    ],\n",
    "    [\n",
    "        r\"what is your name?\",\n",
    "        [\"My name is Chatbot, how can I assist you?\"]\n",
    "    ],\n",
    "    [\n",
    "        r\"quit\",\n",
    "        [\"Goodbye, have a great day!\"]\n",
    "    ]\n",
    "]\n",
    "\n",
    "def chatbot():\n",
    "    print(\"Welcome to the chatbot. How can I assist you?\")\n",
    "    chat = Chat(pairs, reflections)\n",
    "    chat.converse()\n",
    "\n",
    "if __name__ == '__main__':\n",
    "    chatbot()"
   ]
  },
  {
   "cell_type": "code",
   "execution_count": 6,
   "id": "95f5968d",
   "metadata": {},
   "outputs": [
    {
     "name": "stdout",
     "output_type": "stream",
     "text": [
      "Welcome to the Airline Chatbot. How can I assist you today?\n",
      ">hi\n",
      "Hello there, welcome to the Airline Chatbot. How can I assist you today?\n",
      ">what are the check-in options\n",
      "You can check-in online, at a kiosk, or at the airline counter. Which one would you like to know more about?\n",
      ">what is the flight status of DL123\n",
      "The flight status of dl123 is currently on-time. Is there anything else you would like to know?\n",
      ">quit\n",
      "Thank you for using the Airline Chatbot. Have a great day!\n"
     ]
    }
   ],
   "source": [
    "#import nltk # Import the Natural Language Toolkit (NLTK) library # importing the same modules in multiple cells of your Jupyter notebook, may cause a potential circular import issue.\n",
    "from nltk.chat.util import Chat, reflections\n",
    "\n",
    "pairs = [\n",
    "    [\n",
    "        r\"hello|hi\",\n",
    "        [\"Hello there, welcome to the Airline Chatbot. How can I assist you today?\"]\n",
    "    ],\n",
    "    [\n",
    "        r\"what are the check-in options?\",\n",
    "        [\"You can check-in online, at a kiosk, or at the airline counter. Which one would you like to know more about?\"]\n",
    "    ],\n",
    "    [\n",
    "        r\"how much baggage can I carry?\",\n",
    "        [\"The amount of baggage you can carry depends on your ticket type and destination. Can you please provide more details so that I can assist you better?\"]\n",
    "    ],\n",
    "    [\n",
    "        r\"what is the flight status of ([A-Z]{2}\\d{3,4})\\??\",\n",
    "        [\"The flight status of %1 is currently on-time. Is there anything else you would like to know?\"]\n",
    "    ],\n",
    "    [\n",
    "        r\"what are the in-flight services provided?\",\n",
    "        [\"We offer a variety of in-flight services including meal options, entertainment, and Wi-Fi. Can you please let me know which one you would like to know more about?\"]\n",
    "    ],\n",
    "    [\n",
    "        r\"what is the boarding process like?\",\n",
    "        [\"The boarding process starts 45 minutes before departure time. You will need to present your boarding pass and ID at the gate. Do you have any specific questions about the boarding process?\"]\n",
    "    ],\n",
    "    [\n",
    "        r\"how can I book a ticket?\",\n",
    "        [\"You can book a ticket on our website or through our customer service line. Which one would you prefer?\"]\n",
    "    ],\n",
    "    [\n",
    "        r\"what is the refund policy?\",\n",
    "        [\"The refund policy depends on the type of ticket you purchased. Can you please provide more details about your ticket so that I can assist you better?\"]\n",
    "    ],\n",
    "    [\n",
    "        r\"what is the flight schedule for ([A-Z]{2}\\d{3,4})\\??\",\n",
    "        [\"The flight schedule for %1 is as follows: Departure time is 10:30 AM and arrival time is 2:45 PM. Is there anything else you would like to know?\"]\n",
    "    ],\n",
    "    [\n",
    "        r\"quit\",\n",
    "        [\"Thank you for using the Airline Chatbot. Have a great day!\"]\n",
    "    ],\n",
    "    [\n",
    "        r\"(.*)\",\n",
    "        [\"I'm sorry, I don't understand. Can you please rephrase your question?\"]\n",
    "    ]\n",
    "]\n",
    "\n",
    "def chatbot():\n",
    "    print(\"Welcome to the Airline Chatbot. How can I assist you today?\")\n",
    "    chat = Chat(pairs, reflections)\n",
    "    chat.converse()\n",
    "\n",
    "if __name__ == '__main__':\n",
    "    chatbot()\n"
   ]
  },
  {
   "cell_type": "code",
   "execution_count": 1,
   "id": "34736b49",
   "metadata": {},
   "outputs": [
    {
     "name": "stdout",
     "output_type": "stream",
     "text": [
      "Hello! I am ABC Car Bot. How can I help you today?\n",
      "You: How do I rent a car?\n",
      "ABC Car Bot: You can rent a car by visiting our website and selecting the car you want to rent.\n",
      "You: What is your cancellation policy?\n",
      "ABC Car Bot: Our cancellation policy varies depending on the type of reservation you make. Please see our website for more details.\n",
      "You: bye\n",
      "ABC Car Bot: Goodbye!\n"
     ]
    }
   ],
   "source": [
    "import pandas as pd\n",
    "import random\n",
    "\n",
    "# Load the Excel file containing the Q&A data add the specified location as below if it is not in the root dir\n",
    "df = pd.read_excel('c:\\\\temp\\\\car_rental_data.xlsx')\n",
    "\n",
    "# Define the greeting message\n",
    "def greeting():\n",
    "    return \"Hello! I am ABC Car Bot. How can I help you today?\"\n",
    "\n",
    "# Define the function to generate the chatbot response\n",
    "def generate_response(user_input):\n",
    "    # Get all the questions and answers from the Excel file\n",
    "    questions = df['Question']\n",
    "    answers = df['Answer']\n",
    "    \n",
    "    # Iterate over each question and compare it with the user input\n",
    "    for idx, question in enumerate(questions):\n",
    "        # If the user input matches a question in the Excel file, return the corresponding answer\n",
    "        if user_input.lower() == question.lower():\n",
    "            return answers[idx]\n",
    "    \n",
    "    # If no match is found, return a default response\n",
    "    return \"I'm sorry, I didn't understand your question.\"\n",
    "\n",
    "# Define the main function to run the chatbot\n",
    "def main():\n",
    "    print(greeting())\n",
    "    while True:\n",
    "        user_input = input(\"You: \")\n",
    "        if user_input.lower() == 'bye':\n",
    "            print(\"ABC Car Bot: Goodbye!\")\n",
    "            break\n",
    "        else:\n",
    "            print(\"ABC Car Bot:\", generate_response(user_input))\n",
    "\n",
    "# Run the chatbot\n",
    "if __name__ == '__main__':\n",
    "    main()\n"
   ]
  },
  {
   "cell_type": "code",
   "execution_count": null,
   "id": "65ddb398",
   "metadata": {},
   "outputs": [],
   "source": []
  }
 ],
 "metadata": {
  "kernelspec": {
   "display_name": "Python 3 (ipykernel)",
   "language": "python",
   "name": "python3"
  },
  "language_info": {
   "codemirror_mode": {
    "name": "ipython",
    "version": 3
   },
   "file_extension": ".py",
   "mimetype": "text/x-python",
   "name": "python",
   "nbconvert_exporter": "python",
   "pygments_lexer": "ipython3",
   "version": "3.9.12"
  }
 },
 "nbformat": 4,
 "nbformat_minor": 5
}
