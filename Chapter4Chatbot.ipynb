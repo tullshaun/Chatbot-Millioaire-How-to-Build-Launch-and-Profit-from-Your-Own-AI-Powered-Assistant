{
 "cells": [
  {
   "cell_type": "code",
   "execution_count": null,
   "id": "186f5fe6",
   "metadata": {},
   "outputs": [
    {
     "name": "stdout",
     "output_type": "stream",
     "text": [
      ">Hello\n",
      "Hello!\n",
      ">what is your name\n",
      "My name is Chatbot.\n"
     ]
    }
   ],
   "source": [
    "import nltk \n",
    "from nltk.chat.util import Chat, reflections \n",
    "pairs = [ \n",
    "(r\"hello\", [\"Hi there!\",\"Hello!\"]),\n",
    " (r\"what is your name?\", [\"My name is Chatbot.\"]),\n",
    " (r\"how are you?\", [\"I'm doing well, thank you.\"]), \n",
    "(r\"sorry (.*)\", [\"It's alright.\",\"No problem.\"]),\n",
    " (r\"bye\", [\"Goodbye!\", \"Nice talking to you.\"]) \n",
    "]\n",
    "chatbot = Chat(pairs, reflections) \n",
    "chatbot.converse()"
   ]
  },
  {
   "cell_type": "code",
   "execution_count": null,
   "id": "d6373db2",
   "metadata": {},
   "outputs": [],
   "source": []
  }
 ],
 "metadata": {
  "kernelspec": {
   "display_name": "Python 3 (ipykernel)",
   "language": "python",
   "name": "python3"
  },
  "language_info": {
   "codemirror_mode": {
    "name": "ipython",
    "version": 3
   },
   "file_extension": ".py",
   "mimetype": "text/x-python",
   "name": "python",
   "nbconvert_exporter": "python",
   "pygments_lexer": "ipython3",
   "version": "3.9.13"
  }
 },
 "nbformat": 4,
 "nbformat_minor": 5
}
