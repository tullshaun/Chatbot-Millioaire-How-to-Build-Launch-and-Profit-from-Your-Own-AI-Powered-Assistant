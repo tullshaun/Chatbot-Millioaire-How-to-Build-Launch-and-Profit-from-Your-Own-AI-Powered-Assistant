{
 "cells": [
  {
   "cell_type": "code",
   "execution_count": null,
   "id": "7ccb7c92",
   "metadata": {},
   "outputs": [],
   "source": [
    "# Details of code\n",
    "#This code imports the \"nltk\" library, which is a library that allows us to use natural language processing. \n",
    "#It also imports a library called \"reflections\" from the \"nltk.chat.util\" library. \n",
    "#The code then creates a list of pairs. \n",
    "#Each pair is a set of words or phrases and a response. \n",
    "#For example, if someone says \"hello\" the response is \"Hi there!\" or \"Hello!\"\n",
    "#The code then creates a chatbot object, which uses the pairs and reflections library. \n",
    "#Finally, the code runs the chatbot so it can talk with someone."
   ]
  },
  {
   "cell_type": "code",
   "execution_count": null,
   "id": "5894bc99",
   "metadata": {},
   "outputs": [],
   "source": [
    "import nltk \n",
    "from nltk.chat.util import Chat, reflections \n",
    "pairs = [ \n",
    "(r\"hello\", [\"Hi there!\",\"Hello!\"]),\n",
    " (r\"what is your name?\", [\"My name is Chatbot.\"]),\n",
    " (r\"how are you?\", [\"I'm doing well, thank you.\"]), \n",
    "(r\"sorry (.*)\", [\"It's alright.\",\"No problem.\"]),\n",
    " (r\"bye\", [\"Goodbye!\", \"Nice talking to you.\"]) \n",
    "]\n",
    "chatbot = Chat(pairs, reflections) \n",
    "chatbot.converse()"
   ]
  },
  {
   "cell_type": "code",
   "execution_count": 1,
   "id": "1f2601e2",
   "metadata": {},
   "outputs": [
    {
     "name": "stdout",
     "output_type": "stream",
     "text": [
      "User: hello\n",
      "Chatbot:  Hi there!\n",
      "User: what is your name\n",
      "Chatbot:  My name is Chatbot.\n",
      "User: how are you\n",
      "Chatbot:  I'm doing well, thank you.\n",
      "User: bye\n",
      "Chatbot:  Nice talking to you.\n",
      "Goodbye! Nice talking to you.\n"
     ]
    }
   ],
   "source": [
    "# the following code will address some of the limitations of the previous code \n",
    "# and will also log all the responses\n",
    "# Import the Chat and reflections classes from the nltk.chat.util module\n",
    "from nltk.chat.util import Chat, reflections\n",
    "\n",
    "# Define the chatbot's response pairs\n",
    "pairs = [\n",
    "    (r\"hello\", [\"Hi there!\", \"Hello!\"]),  # Respond to 'hello' with one of the given responses\n",
    "    (r\"what is your name?\", [\"My name is Chatbot.\"]),  # Respond to 'what is your name?' with the given response\n",
    "    (r\"how are you?\", [\"I'm doing well, thank you.\"]),  # Respond to 'how are you?' with the given response\n",
    "    (r\"sorry (.*)\", [\"It's alright.\", \"No problem.\"]),  # Respond to 'sorry ...' with one of the given responses\n",
    "    (r\"bye\", [\"Goodbye!\", \"Nice talking to you.\"])  # Respond to 'bye' with one of the given responses\n",
    "]\n",
    "\n",
    "# Create a chatbot instance with the defined response pairs and reflections\n",
    "chatbot = Chat(pairs, reflections)\n",
    "\n",
    "# Open a file named 'chat_file.txt' in write mode\n",
    "chat_file = open(\"chat_file.txt\", \"w\")\n",
    "\n",
    "# Start an infinite loop to keep the conversation going\n",
    "while True:\n",
    "    # Get the user's input and store it in the 'user_input' variable\n",
    "    user_input = input(\"User: \")\n",
    "    # Generate a chatbot response based on the user's input\n",
    "    chatbot_response = chatbot.respond(user_input)\n",
    "\n",
    "    # Check if the chatbot generated a response\n",
    "    if chatbot_response is None:\n",
    "        # If the chatbot could not generate a response, print an error message\n",
    "        print(\"Sorry, I don't understand what you said. Please try again!\")\n",
    "    else:\n",
    "        # If the chatbot generated a response, print it\n",
    "        print(\"Chatbot: \", chatbot_response)\n",
    "        # Write the user's input and chatbot's response to the file\n",
    "        chat_file.write(\"User: \" + user_input + \"\\n\")\n",
    "        chat_file.write(\"Chatbot: \" + chatbot_response + \"\\n\")\n",
    "\n",
    "        # Check if the user's input is 'bye' (case insensitive)\n",
    "        if user_input.lower() == 'bye':\n",
    "            # If the user's input is 'bye', exit the loop\n",
    "            break\n",
    "\n",
    "# Close the file after the conversation is finished\n",
    "chat_file.close()\n",
    "# Print a goodbye message after the conversation is finished\n",
    "print(\"Goodbye! Nice talking to you.\")"
   ]
  },
  {
   "cell_type": "code",
   "execution_count": null,
   "id": "fb898491",
   "metadata": {},
   "outputs": [],
   "source": []
  }
 ],
 "metadata": {
  "kernelspec": {
   "display_name": "Python 3 (ipykernel)",
   "language": "python",
   "name": "python3"
  },
  "language_info": {
   "codemirror_mode": {
    "name": "ipython",
    "version": 3
   },
   "file_extension": ".py",
   "mimetype": "text/x-python",
   "name": "python",
   "nbconvert_exporter": "python",
   "pygments_lexer": "ipython3",
   "version": "3.9.13"
  }
 },
 "nbformat": 4,
 "nbformat_minor": 5
}
