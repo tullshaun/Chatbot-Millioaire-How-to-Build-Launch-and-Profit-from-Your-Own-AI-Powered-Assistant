{
 "cells": [
  {
   "cell_type": "code",
   "execution_count": null,
   "id": "b87c39f8",
   "metadata": {},
   "outputs": [],
   "source": [
    "# Details of code\n",
    "#This code imports the \"nltk\" library, which is a library that allows us to use natural language processing. \n",
    "#It also imports a library called \"reflections\" from the \"nltk.chat.util\" library. \n",
    "#The code then creates a list of pairs. \n",
    "#Each pair is a set of words or phrases and a response. \n",
    "#For example, if someone says \"hello\" the response is \"Hi there!\" or \"Hello!\"\n",
    "#The code then creates a chatbot object, which uses the pairs and reflections library. \n",
    "#Finally, the code runs the chatbot so it can talk with someone."
   ]
  },
  {
   "cell_type": "code",
   "execution_count": null,
   "id": "7386e7f4",
   "metadata": {},
   "outputs": [
    {
     "name": "stdout",
     "output_type": "stream",
     "text": [
      ">Hello\n",
      "Hello!\n",
      ">what is your name\n",
      "My name is Chatbot.\n"
     ]
    }
   ],
   "source": [
    "import nltk \n",
    "from nltk.chat.util import Chat, reflections \n",
    "pairs = [ \n",
    "(r\"hello\", [\"Hi there!\",\"Hello!\"]),\n",
    " (r\"what is your name?\", [\"My name is Chatbot.\"]),\n",
    " (r\"how are you?\", [\"I'm doing well, thank you.\"]), \n",
    "(r\"sorry (.*)\", [\"It's alright.\",\"No problem.\"]),\n",
    " (r\"bye\", [\"Goodbye!\", \"Nice talking to you.\"]) \n",
    "]\n",
    "chatbot = Chat(pairs, reflections) \n",
    "chatbot.converse()"
   ]
  },
  {
   "cell_type": "code",
   "execution_count": null,
   "id": "78bf9eac",
   "metadata": {},
   "outputs": [],
   "source": []
  }
 ],
 "metadata": {
  "kernelspec": {
   "display_name": "Python 3 (ipykernel)",
   "language": "python",
   "name": "python3"
  },
  "language_info": {
   "codemirror_mode": {
    "name": "ipython",
    "version": 3
   },
   "file_extension": ".py",
   "mimetype": "text/x-python",
   "name": "python",
   "nbconvert_exporter": "python",
   "pygments_lexer": "ipython3",
   "version": "3.9.13"
  }
 },
 "nbformat": 4,
 "nbformat_minor": 5
}
