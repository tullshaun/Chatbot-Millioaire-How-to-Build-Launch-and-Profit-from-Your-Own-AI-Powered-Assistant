{
 "cells": [
  {
   "cell_type": "code",
   "execution_count": null,
   "id": "e089b6ca",
   "metadata": {},
   "outputs": [],
   "source": [
    "#!pip install chatterbot  \n",
    "#!pip install git+git://github.com/gunthercox/ChatterBot.git@master\n",
    "!pip install chatterbot==1.0.4 # Install chatterbot\n",
    "!pip install gradio # Install Gradio using pip:"
   ]
  },
  {
   "cell_type": "code",
   "execution_count": null,
   "id": "a2a0edfe",
   "metadata": {},
   "outputs": [],
   "source": [
    "import gradio as gr\n",
    "from chatterbot import ChatBot\n",
    "from chatterbot.trainers import ChatterBotCorpusTrainer\n",
    "\n",
    "# Create a chatbot instance\n",
    "bot = ChatBot('MyBot')\n",
    "\n",
    "# Create a new trainer for the chatbot\n",
    "trainer = ChatterBotCorpusTrainer(bot)\n",
    "\n",
    "# Train the chatbot on the english corpus\n",
    "trainer.train(\"chatterbot.corpus.english\")\n",
    "\n",
    "def chatbot_response(input):\n",
    "    # Get response from the chatbot\n",
    "    response = bot.get_response(input)\n",
    "\n",
    "    # Return the response\n",
    "    return str(response)\n",
    "\n",
    "# Create an input interface\n",
    "input_text = gr.inputs.Textbox(lines=2, label=\"Input\")\n",
    "\n",
    "# Create an output interface\n",
    "output_text = gr.outputs.Textbox(label=\"Output\")\n",
    "\n",
    "# Create a Gradio interface\n",
    "interface = gr.Interface(fn=chatbot_response, inputs=input_text, outputs=output_text)\n",
    "\n",
    "# Launch the interface\n",
    "interface.launch()"
   ]
  }
 ],
 "metadata": {
  "kernelspec": {
   "display_name": "Python 3 (ipykernel)",
   "language": "python",
   "name": "python3"
  },
  "language_info": {
   "codemirror_mode": {
    "name": "ipython",
    "version": 3
   },
   "file_extension": ".py",
   "mimetype": "text/x-python",
   "name": "python",
   "nbconvert_exporter": "python",
   "pygments_lexer": "ipython3",
   "version": "3.9.13"
  }
 },
 "nbformat": 4,
 "nbformat_minor": 5
}
