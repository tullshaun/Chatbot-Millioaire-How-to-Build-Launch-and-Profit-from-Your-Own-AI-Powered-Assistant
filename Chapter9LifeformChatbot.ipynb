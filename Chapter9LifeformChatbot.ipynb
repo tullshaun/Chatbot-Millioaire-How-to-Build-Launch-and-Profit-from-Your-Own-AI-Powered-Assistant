{
 "cells": [
  {
   "cell_type": "code",
   "execution_count": 3,
   "id": "141f3924",
   "metadata": {},
   "outputs": [
    {
     "name": "stdout",
     "output_type": "stream",
     "text": [
      "Accuracy: 1.0\n",
      "Prediction: mammal\n"
     ]
    }
   ],
   "source": [
    "import numpy as np\n",
    "from sklearn.model_selection import train_test_split\n",
    "from sklearn.tree import DecisionTreeClassifier\n",
    "from sklearn.metrics import accuracy_score\n",
    "import pickle\n",
    "\n",
    "# Create a small dataset containing information about different life forms\n",
    "# Each instance contains four features: body temperature, number of legs, number of wings, and type (mammal, fish, insect)\n",
    "dataset = np.array([\n",
    "    [36.5, 4, 0, \"mammal\"],\n",
    "    [37.0, 2, 0, \"mammal\"],\n",
    "    [25.0, 6, 2, \"insect\"],\n",
    "    [26.0, 6, 0, \"insect\"],\n",
    "    [15.0, 0, 0, \"fish\"],\n",
    "    [18.0, 0, 0, \"fish\"],\n",
    "    [38.0, 2, 0, \"mammal\"],\n",
    "    [24.0, 6, 4, \"insect\"],\n",
    "    [30.0, 8, 0, \"insect\"],\n",
    "    [18.0, 0, 0, \"fish\"],\n",
    "    [27.0, 6, 0, \"insect\"],\n",
    "    [20.0, 8, 2, \"insect\"],\n",
    "    [38.5, 4, 0, \"mammal\"],\n",
    "    [21.0, 12, 2, \"insect\"],\n",
    "    [17.0, 0, 2, \"fish\"],\n",
    "    [20.0, 6, 4, \"insect\"],\n",
    "    [25.0, 6, 0, \"insect\"],\n",
    "    [28.0, 2, 0, \"mammal\"],\n",
    "    [16.0, 0, 0, \"fish\"],\n",
    "    [19.0, 6, 4, \"insect\"],\n",
    "    [24.0, 10, 4, \"insect\"],\n",
    "    [37.5, 4, 0, \"mammal\"],\n",
    "    [22.0, 8, 2, \"insect\"],\n",
    "    [26.0, 6, 0, \"insect\"],\n",
    "    [14.0, 0, 0, \"fish\"],\n",
    "    [23.0, 12, 4, \"insect\"],\n",
    "    [18.5, 0, 0, \"fish\"],\n",
    "    [35.5, 4, 0, \"mammal\"],\n",
    "    [16.0, 0, 0, \"fish\"],\n",
    "    [20.0, 8, 2, \"insect\"]\n",
    "])\n",
    "\n",
    "# Split the dataset into training and testing sets\n",
    "X_train, X_test, y_train, y_test = train_test_split(dataset[:, :-1], dataset[:, -1], test_size=0.2, random_state=42)\n",
    "\n",
    "# Create a Decision Tree Classifier\n",
    "clf = DecisionTreeClassifier()\n",
    "\n",
    "# Train the model on the training set\n",
    "clf.fit(X_train, y_train)\n",
    "\n",
    "# Save the trained model\n",
    "with open('decision_tree.pkl', 'wb') as f:\n",
    "    pickle.dump(clf, f)\n",
    "\n",
    "# Test the model on the testing set\n",
    "y_pred = clf.predict(X_test)\n",
    "\n",
    "# Evaluate the performance of the model\n",
    "accuracy = accuracy_score(y_test, y_pred)\n",
    "print(\"Accuracy:\", accuracy)\n",
    "\n",
    "# Test the saved model on a new example\n",
    "# Example: [20.0, 4, 0]\n",
    "new_example = np.array([20.0, 4, 0]).reshape(1, -1)                                           \n",
    "                                             \n",
    "                                             \n",
    "#Load the saved model\n",
    "with open('decision_tree.pkl', 'rb') as f:\n",
    "    loaded_model = pickle.load(f)\n",
    "\n",
    "#Make a prediction using the loaded model\n",
    "prediction = loaded_model.predict(new_example)\n",
    "\n",
    "print(\"Prediction:\", prediction[0])\n"
   ]
  },
  {
   "cell_type": "code",
   "execution_count": 6,
   "id": "adf721c4",
   "metadata": {},
   "outputs": [
    {
     "name": "stdout",
     "output_type": "stream",
     "text": [
      "Welcome to the lifeform predictor chatbot!\n",
      "What is the body temperature of the lifeform? 20\n",
      "How many legs does the lifeform have? 8\n",
      "How many wings does the lifeform have? 0\n",
      "Based on the given information, the lifeform is predicted to be a insect\n",
      "Would you like to continue? (y/n) n\n"
     ]
    }
   ],
   "source": [
    "import numpy as np\n",
    "import pickle\n",
    "\n",
    "# Load the saved model\n",
    "with open('decision_tree.pkl', 'rb') as f:\n",
    "    loaded_model = pickle.load(f)\n",
    "\n",
    "# Define the chatbot function\n",
    "def chatbot():\n",
    "    print(\"Welcome to the lifeform predictor chatbot!\")\n",
    "    while True:\n",
    "        # Ask for input\n",
    "        body_temp = float(input(\"What is the body temperature of the lifeform? \"))\n",
    "        num_legs = int(input(\"How many legs does the lifeform have? \"))\n",
    "        num_wings = int(input(\"How many wings does the lifeform have? \"))\n",
    "\n",
    "        # Create a numpy array with the input values\n",
    "        new_example = np.array([body_temp, num_legs, num_wings]).reshape(1, -1)\n",
    "\n",
    "        # Make a prediction using the loaded model\n",
    "        prediction = loaded_model.predict(new_example)\n",
    "\n",
    "        # Print the predicted lifeform\n",
    "        print(\"Based on the given information, the lifeform is predicted to be a\", prediction[0])\n",
    "\n",
    "        # Ask if the user wants to continue or quit\n",
    "        user_input = input(\"Would you like to continue? (y/n) \")\n",
    "        if user_input.lower() != 'y':\n",
    "            break\n",
    "\n",
    "# Call the chatbot function\n",
    "chatbot()\n"
   ]
  },
  {
   "cell_type": "code",
   "execution_count": null,
   "id": "12eee463",
   "metadata": {},
   "outputs": [],
   "source": []
  }
 ],
 "metadata": {
  "kernelspec": {
   "display_name": "Python 3 (ipykernel)",
   "language": "python",
   "name": "python3"
  },
  "language_info": {
   "codemirror_mode": {
    "name": "ipython",
    "version": 3
   },
   "file_extension": ".py",
   "mimetype": "text/x-python",
   "name": "python",
   "nbconvert_exporter": "python",
   "pygments_lexer": "ipython3",
   "version": "3.9.13"
  }
 },
 "nbformat": 4,
 "nbformat_minor": 5
}
