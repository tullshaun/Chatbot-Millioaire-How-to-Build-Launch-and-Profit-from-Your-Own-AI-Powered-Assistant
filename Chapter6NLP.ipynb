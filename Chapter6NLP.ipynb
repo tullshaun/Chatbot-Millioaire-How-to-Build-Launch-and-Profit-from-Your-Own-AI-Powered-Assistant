{
 "cells": [
  {
   "attachments": {},
   "cell_type": "markdown",
   "id": "fb81ca1a",
   "metadata": {},
   "source": [
    "<H1>Chapter 6: Natural Language Processing: How Chatbots Understand User Input</H1>"
   ]
  },
  {
   "cell_type": "code",
   "execution_count": 38,
   "id": "57aeb076",
   "metadata": {},
   "outputs": [],
   "source": [
    "import nltk # Import the Natural Language Toolkit (NLTK) library\n",
    "\n",
    "nltk.download('stopwords') # Download the set of stopwords used by the NLTK library\n",
    "nltk.download('punkt') # Download the Punkt tokenizer, which is used by NLTK's word_tokenize function to tokenize text into words\n",
    "nltk.download('averaged_perceptron_tagger') # Download the part-of-speech (POS) tagger used by the NLTK library to identify the grammatical roles of words in sentences\n"
   ]
  },
  {
   "cell_type": "code",
   "execution_count": 39,
   "id": "92bce69d",
   "metadata": {},
   "outputs": [
    {
     "name": "stdout",
     "output_type": "stream",
     "text": [
      "['hello', 'world', 'sample', 'sentence']\n"
     ]
    }
   ],
   "source": [
    "import re # Import the regular expressions module\n",
    "from nltk.corpus import stopwords # Import the stopwords module from the Natural Language Toolkit\n",
    "from nltk.tokenize import word_tokenize # Import the word tokenization module from the Natural Language Toolkit\n",
    "\n",
    "# Assign the string to be preprocessed to the 'text' variable\n",
    "text = \"Hello, World! This is a sample sentence.\"\n",
    "\n",
    "# Convert all characters in the string to lowercase\n",
    "text = text.lower()\n",
    "\n",
    "# Remove all punctuation marks from the string using a regular expression\n",
    "text = re.sub(r'[^\\w\\s]','',text)\n",
    "\n",
    "# Create a set of stopwords for the English language\n",
    "stop_words = set(stopwords.words('english'))\n",
    "\n",
    "# Tokenize the string into individual words using the word_tokenize function\n",
    "word_tokens = word_tokenize(text)\n",
    "\n",
    "# Create a new list that contains only those words from the word_tokens list that are not in the set of stop words\n",
    "filtered_text = [word for word in word_tokens if not word in stop_words]\n",
    "\n",
    "# Print the filtered text\n",
    "print(filtered_text)\n"
   ]
  },
  {
   "cell_type": "code",
   "execution_count": 42,
   "id": "e1ca891b",
   "metadata": {},
   "outputs": [
    {
     "name": "stdout",
     "output_type": "stream",
     "text": [
      "['This', 'is', 'a', 'sample', 'sentence', '.']\n"
     ]
    }
   ],
   "source": [
    "from nltk.tokenize import word_tokenize # Import the word_tokenize function from the Natural Language Toolkit (NLTK) library\n",
    "\n",
    "text = \"This is a sample sentence.\" # Assign the string to be tokenized to the 'text' variable\n",
    "\n",
    "tokens = word_tokenize(text) # Tokenize the string using the word_tokenize function, which separates the string into individual words and returns a list of these words. The resulting list is assigned to the 'tokens' variable.\n",
    "\n",
    "print(tokens) # Print the list of tokens (individual words) to the console\n"
   ]
  },
  {
   "cell_type": "code",
   "execution_count": 37,
   "id": "d23e0800",
   "metadata": {},
   "outputs": [],
   "source": [
    "import nltk # Import the Natural Language Toolkit (NLTK) library\n",
    "nltk.download('averaged_perceptron_tagger') # Download the part-of-speech (POS) tagger used by the NLTK library to identify the grammatical roles of words in sentences\n"
   ]
  },
  {
   "cell_type": "code",
   "execution_count": 41,
   "id": "25ff484e",
   "metadata": {},
   "outputs": [
    {
     "name": "stdout",
     "output_type": "stream",
     "text": [
      "[('This', 'DT'), ('is', 'VBZ'), ('a', 'DT'), ('sample', 'JJ'), ('sentence', 'NN'), ('.', '.')]\n"
     ]
    }
   ],
   "source": [
    "from nltk.tokenize import word_tokenize # Import the word_tokenize function from the Natural Language Toolkit (NLTK) library\n",
    "\n",
    "text = \"This is a sample sentence.\" # Assign the string to be tokenized and tagged to the 'text' variable\n",
    "\n",
    "tokens = word_tokenize(text) # Tokenize the string into individual words using the word_tokenize function from NLTK. The resulting list of tokens is assigned to the 'tokens' variable.\n",
    "\n",
    "pos_tags = nltk.pos_tag(tokens) # Use the part-of-speech (POS) tagger from NLTK to assign a grammatical label to each word in the 'tokens' list. The resulting list of word/POS tag pairs is assigned to the 'pos_tags' variable.\n",
    "\n",
    "print(pos_tags) # Print the list of word/POS tag pairs to the console\n"
   ]
  },
  {
   "cell_type": "code",
   "execution_count": 34,
   "id": "ed01624b",
   "metadata": {},
   "outputs": [],
   "source": [
    "!pip install spacy # Install the spacy library using pip"
   ]
  },
  {
   "cell_type": "code",
   "execution_count": 35,
   "id": "b971bee0",
   "metadata": {},
   "outputs": [],
   "source": [
    "!python -m spacy download en_core_web_sm # Download the English language model for spacy (en_core_web_sm)"
   ]
  },
  {
   "cell_type": "code",
   "execution_count": 43,
   "id": "4e8ae9e9",
   "metadata": {},
   "outputs": [
    {
     "name": "stdout",
     "output_type": "stream",
     "text": [
      "Apple ORG\n",
      "UK GPE\n",
      "$1 billion MONEY\n"
     ]
    }
   ],
   "source": [
    "import spacy # Import the spacy library\n",
    "\n",
    "nlp = spacy.load('en_core_web_sm') # Load the English language model for spacy\n",
    "text = \"Apple is looking to buy a startup in the UK for $1 billion.\" # Assign the text to be analyzed to the 'text' variable\n",
    "\n",
    "doc = nlp(text) # Create a spacy document object by processing the 'text' variable with the loaded model. The resulting document object is assigned to the 'doc' variable.\n",
    "\n",
    "for ent in doc.ents: # Iterate over the named entities in the 'doc' object using a for loop\n",
    "    print(ent.text, ent.label_) # Print the text of each named entity and its corresponding entity type (e.g. PERSON, ORG, MONEY, etc.) to the console.\n"
   ]
  },
  {
   "cell_type": "code",
   "execution_count": 36,
   "id": "7eea743a",
   "metadata": {},
   "outputs": [],
   "source": [
    "!pip install textblob # Install the textblob library using pip"
   ]
  },
  {
   "cell_type": "code",
   "execution_count": 44,
   "id": "e2bcff52",
   "metadata": {},
   "outputs": [
    {
     "name": "stdout",
     "output_type": "stream",
     "text": [
      "Positive\n"
     ]
    }
   ],
   "source": [
    "from textblob import TextBlob # Import the TextBlob class from the textblob library\n",
    "\n",
    "text = \"I love this product!\" # Assign the text to be analyzed to the 'text' variable\n",
    "blob = TextBlob(text) # Create a TextBlob object by processing the 'text' variable\n",
    "sentiment = blob.sentiment.polarity # Retrieve the polarity score of the TextBlob object. This value will be between -1 (most negative) and 1 (most positive).\n",
    "\n",
    "if sentiment > 0: # If the polarity score is greater than 0, print \"Positive\"\n",
    "    print(\"Positive\")\n",
    "elif sentiment < 0: # If the polarity score is less than 0, print \"Negative\"\n",
    "    print(\"Negative\")\n",
    "else: # If the polarity score is exactly 0, print \"Neutral\"\n",
    "    print(\"Neutral\")"
   ]
  },
  {
   "cell_type": "code",
   "execution_count": 45,
   "id": "37498a72",
   "metadata": {},
   "outputs": [
    {
     "name": "stdout",
     "output_type": "stream",
     "text": [
      "weather\n"
     ]
    }
   ],
   "source": [
    "import nltk  # Import the nltk library for natural language processing\n",
    "\n",
    "text = \"What's the weather like today?\"  # Define the text to be analyzed\n",
    "words = nltk.word_tokenize(text)  # Tokenize the text into a list of words\n",
    "pos_tags = nltk.pos_tag(words)  # Perform part-of-speech (POS) tagging on the words to identify their grammatical roles\n",
    "\n",
    "intent = None  # Initialize the intent variable to None\n",
    "\n",
    "# Loop through the words and their POS tags\n",
    "for word, pos in pos_tags:\n",
    "    if pos == 'VBZ':  # If the POS tag is \"VBZ\" (present tense verb \"is\"), set the intent to \"weather\"\n",
    "        intent = 'weather'\n",
    "        break  # Exit the loop once the intent is found\n",
    "\n",
    "print(intent)  # Print the intent name (\"weather\" in this case)\n",
    "\n"
   ]
  },
  {
   "cell_type": "code",
   "execution_count": null,
   "id": "6a0b47e7",
   "metadata": {},
   "outputs": [],
   "source": []
  }
 ],
 "metadata": {
  "kernelspec": {
   "display_name": "Python 3 (ipykernel)",
   "language": "python",
   "name": "python3"
  },
  "language_info": {
   "codemirror_mode": {
    "name": "ipython",
    "version": 3
   },
   "file_extension": ".py",
   "mimetype": "text/x-python",
   "name": "python",
   "nbconvert_exporter": "python",
   "pygments_lexer": "ipython3",
   "version": "3.9.12"
  }
 },
 "nbformat": 4,
 "nbformat_minor": 5
}
