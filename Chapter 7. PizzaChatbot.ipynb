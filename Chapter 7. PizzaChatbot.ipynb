{
 "cells": [
  {
   "cell_type": "code",
   "execution_count": null,
   "id": "01bc3d46",
   "metadata": {},
   "outputs": [],
   "source": [
    "## Install PyTorch follwo instructions from: https://pytorch.org/get-started/locally/\n",
    "# PyTorch is an open-source machine learning library that provides high-level APIs for building and training neural networks. It is widely used for various applications, including computer vision, natural language processing, and reinforcement learning.\n",
    "# The PyTorch library is written in Python and provides easy-to-use APIs for various tasks such as tensor manipulation, gradient computation, and neural network building. It also provides a wide range of pre-trained models that can be fine-tuned on specific tasks.\n",
    "\n",
    "# pip install transformers nltk: installs two Python packages called \"transformers\" and \"nltk\" using the package manager called \"pip\".\n",
    "#\"Transformers\" is a popular open-source library for natural language processing (NLP) tasks such as language modeling, text classification, and machine translation. It is built on top of the deep learning framework PyTorch and provides pre-trained models that can be fine-tuned on specific NLP tasks.\n",
    "#\"NLTK\" stands for Natural Language Toolkit, and it is a collection of libraries and programs for NLP tasks such as tokenization, stemming, tagging, parsing, and semantic reasoning. NLTK is widely used in research and education for NLP.\n",
    "#So, this code installs these two packages, allowing the user to use their functionalities in Python projects."
   ]
  },
  {
   "cell_type": "code",
   "execution_count": 6,
   "id": "419699bc",
   "metadata": {},
   "outputs": [],
   "source": [
    "pip install transformers nltk"
   ]
  },
  {
   "cell_type": "code",
   "execution_count": null,
   "id": "cea18d2d",
   "metadata": {},
   "outputs": [],
   "source": [
    "conversations = [(\"Hi\", \"Hello! Welcome to Pizza Planet. How may I assist you?\"),\n",
    "                 (\"Can I order a pizza?\", \"Of course! What kind of pizza would you like?\"), \n",
    "                 (\"I want a pepperoni pizza\", \"Great choice! What size would you like?\"),  \n",
    "                 (\"Large please\", \"Sure thing. Anything else?\"), \n",
    "                 (\"No, that's it\", \"Alright, your order has been placed. Thank you for choosing Pizza Planet!\")]\n"
   ]
  },
  {
   "cell_type": "code",
   "execution_count": null,
   "id": "de90f804",
   "metadata": {},
   "outputs": [],
   "source": [
    "from transformers import AutoModelForCausalLM, AutoTokenizer\n",
    "\n",
    "model_name = \"microsoft/DialoGPT-medium\"\n",
    "tokenizer = AutoTokenizer.from_pretrained(model_name, padding_side='left')\n",
    "model = AutoModelForCausalLM.from_pretrained(model_name)\n"
   ]
  },
  {
   "cell_type": "code",
   "execution_count": null,
   "id": "84581b80",
   "metadata": {},
   "outputs": [],
   "source": [
    "def get_response(user_input):\n",
    "    # Tokenize the input text\n",
    "    input_ids = tokenizer.encode(user_input + tokenizer.eos_token, return_tensors=\"pt\")\n",
    "    # Generate a response using the model\n",
    "    response_ids = model.generate(input_ids, max_length=1000, pad_token_id=tokenizer.eos_token_id)\n",
    "    # Decode the response and remove unnecessary text\n",
    "    response_text = tokenizer.decode(response_ids[0], skip_special_tokens=True)\n",
    "    response_text = response_text.replace('Pizza Planet:', '').replace('Pizza Planet', '')\n",
    "    return response_text.strip()\n"
   ]
  },
  {
   "cell_type": "code",
   "execution_count": null,
   "id": "c7f96fca",
   "metadata": {},
   "outputs": [],
   "source": [
    "print(\"Hello! Welcome to Pizza Planet. How may I assist you?\")\n",
    "\n",
    "while True:\n",
    "    user_input = input(\"You: \")\n",
    "    if user_input.lower() == 'exit':\n",
    "        break\n",
    "    response = get_response(user_input)\n",
    "    print(\"Pizza Bot: \" + response)"
   ]
  },
  {
   "cell_type": "code",
   "execution_count": null,
   "id": "cd4b8eeb",
   "metadata": {},
   "outputs": [],
   "source": []
  }
 ],
 "metadata": {
  "kernelspec": {
   "display_name": "Python 3 (ipykernel)",
   "language": "python",
   "name": "python3"
  },
  "language_info": {
   "codemirror_mode": {
    "name": "ipython",
    "version": 3
   },
   "file_extension": ".py",
   "mimetype": "text/x-python",
   "name": "python",
   "nbconvert_exporter": "python",
   "pygments_lexer": "ipython3",
   "version": "3.9.13"
  }
 },
 "nbformat": 4,
 "nbformat_minor": 5
}
